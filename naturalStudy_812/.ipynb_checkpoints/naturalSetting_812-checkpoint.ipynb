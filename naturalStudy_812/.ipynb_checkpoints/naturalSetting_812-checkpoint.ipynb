{
 "cells": [
  {
   "cell_type": "markdown",
   "id": "e36e2aee-dfeb-4baa-84ec-cb22b74f1694",
   "metadata": {},
   "source": [
    "# Solution for Predicting Olympic Medal Count\n",
    "We have a historical dataset on the modern Olympic Games, including all the Games from Athens 1896 to Rio 2012. We want to predict the number of medals for the 2016 Olympic Games. The dataset can be divided in three tables, the ground truth, country of olympics and the specific event with medals.\\\n",
    "Here are the attributes of our tables."
   ]
  },
  {
   "cell_type": "markdown",
   "id": "decddabc-7c52-42c3-9114-f1ac7b5574b2",
   "metadata": {},
   "source": [
    "<p><c>\n",
    "    <img src=\"dataset.png\" alt=\"Olympic Logo\" width=500/>\n",
    "</c></p>"
   ]
  },
  {
   "cell_type": "markdown",
   "id": "2523aa98-2da1-43a1-82b8-0a3b7c4453c9",
   "metadata": {},
   "source": [
    "Here we provide a solution for predicting Olympic Medal Count in 2016. Now you need to **follow the provided solution and select a subset of features** you think is helpful for predicting the Medal Count of the coming Olympic Games 2020 in Tokyo. You are required to finish the tasks below:\n",
    "### Steps:\n",
    "\n",
    "#### 1. learn about the dataset and the task of predicting Olympic Medal Count in the first cell called load data (input, ground truth, data, regressive model);\n",
    "#### 2. load the suggested features from experts and Automatic algorithms and <span style=\"color:blue\">check the features in the 3rd cell by clicking the button on the right of the cell</span>.\n",
    "#### 3. Checked the information of the features in the table view and select a subset of features by ticking the checkbox, submit your selection by clicking the <span style=\"color:blue\">blue button Submit Selection in the view</span>.\n",
    "#### 4. Copy the feature ids and evaluate these features in the evaluation cell by pasting the id list in the <span style=\"color:blue\">auto_human_feature_matrix.iloc[:,[feature id list]</span>.\n",
    "\n",
    "#### You can select and evaluate the features iteratively or create new features from the three tables by yourself."
   ]
  },
  {
   "cell_type": "markdown",
   "id": "a7926275-0806-41dc-96dc-7d740131a9f8",
   "metadata": {},
   "source": [
    "## Load data"
   ]
  },
  {
   "cell_type": "code",
   "execution_count": 1,
   "id": "ee3be622-719b-4c91-a9a6-05d883f9992c",
   "metadata": {},
   "outputs": [],
   "source": [
    "# load data and groung truth\n",
    "import os\n",
    "import pandas as pd\n",
    "import utils_original as utils\n",
    "import foldCode1 as load_df\n",
    "import foldCode2 as our_model\n",
    "\n",
    "DATA_DIR = os.path.join(os.getcwd(),\"data/olympic_games_data\")\n",
    "es = utils.load_entityset(data_dir=DATA_DIR)\n",
    "groundtruth_table, countries_table, events_table, cutoff_times_gt, dates, labels = load_df.loadData(es, DATA_DIR)"
   ]
  },
  {
   "cell_type": "markdown",
   "id": "6ad40b99-8bc7-4de4-a0e5-315d7a313e10",
   "metadata": {},
   "source": [
    "You can add new cells to print the 3 tables (groundtruth_table, countries_table, events_table) and the input (dates) and labels."
   ]
  },
  {
   "cell_type": "markdown",
   "id": "1919bb20-cb6f-44a0-b32e-6c0b82c535c6",
   "metadata": {},
   "source": [
    "## <span style=\"color:brown\">Generate Features</span> (important part)"
   ]
  },
  {
   "cell_type": "code",
   "execution_count": 2,
   "id": "1b16d7fa-afe3-4deb-bba9-2c7d5202279a",
   "metadata": {},
   "outputs": [],
   "source": [
    "select_human_feature_names, select_human_features = load_df.human_features() #7\n",
    "all_features = pd.read_csv(\"features/natural_features_all.csv\")\n",
    "\n",
    "# check feature matrix\n",
    "# all_features\n",
    "\n",
    "# you can also check single feature:\n",
    "# all_features.iloc[:, #id]"
   ]
  },
  {
   "cell_type": "code",
   "execution_count": 3,
   "id": "490abbca-3815-4ed3-b682-bcdfb20af993",
   "metadata": {},
   "outputs": [],
   "source": [
    "#check features\n",
    "\n",
    "# your feature selection: input feature ID in the list below:\n",
    "feature_id = [2,3]"
   ]
  },
  {
   "cell_type": "markdown",
   "id": "05aabd46-271c-4932-b2dc-83ba18719aee",
   "metadata": {},
   "source": [
    "## Evaluate features by a regressive model (random forest)"
   ]
  },
  {
   "cell_type": "code",
   "execution_count": 11,
   "id": "3ecb9649-6b61-416b-be80-40be4ac06d04",
   "metadata": {},
   "outputs": [
    {
     "name": "stdout",
     "output_type": "stream",
     "text": [
      "         r2        mse Olympics Year\n",
      "0  0.722891  91.911598    2016-08-05\n"
     ]
    }
   ],
   "source": [
    "from sklearn.ensemble import RandomForestRegressor\n",
    "from sklearn.pipeline import Pipeline\n",
    "from sklearn.impute import SimpleImputer\n",
    "from sklearn.preprocessing import RobustScaler\n",
    "import utils_original as utils\n",
    "\n",
    "# parameters of the regressive model\n",
    "pipeline_preprocessing = [(\"imputer\",\n",
    "                            SimpleImputer()),\n",
    "                            (\"scaler\", RobustScaler(with_centering=True))]\n",
    "splitter = utils.TimeSeriesSplitByDate(dates=dates, earliest_date=pd.Timestamp('01/01/2012')) # using data before and contain 2012 for training\n",
    "\n",
    "# input values\n",
    "# all_X = all_features.values   # you can edit here to evalute feature subsets\n",
    "all_X = all_features.iloc[:, feature_id].values\n",
    "rf_regressor = RandomForestRegressor(\n",
    "        n_estimators=200,\n",
    "        random_state=50\n",
    "    )\n",
    "pipeline_reg = Pipeline(pipeline_preprocessing + [('rf_reg', rf_regressor)])\n",
    "regression_score = utils.fit_and_score(all_X, labels, splitter, pipeline_reg)\n",
    "\n",
    "print(regression_score)"
   ]
  },
  {
   "cell_type": "code",
   "execution_count": 17,
   "id": "6f84b392-ae34-4014-bfc0-7a71f69f49d9",
   "metadata": {},
   "outputs": [
    {
     "data": {
      "text/html": [
       "<div>\n",
       "<style scoped>\n",
       "    .dataframe tbody tr th:only-of-type {\n",
       "        vertical-align: middle;\n",
       "    }\n",
       "\n",
       "    .dataframe tbody tr th {\n",
       "        vertical-align: top;\n",
       "    }\n",
       "\n",
       "    .dataframe thead th {\n",
       "        text-align: right;\n",
       "    }\n",
       "</style>\n",
       "<table border=\"1\" class=\"dataframe\">\n",
       "  <thead>\n",
       "    <tr style=\"text-align: right;\">\n",
       "      <th></th>\n",
       "      <th>Importance</th>\n",
       "      <th>Feature</th>\n",
       "    </tr>\n",
       "  </thead>\n",
       "  <tbody>\n",
       "    <tr>\n",
       "      <th>0</th>\n",
       "      <td>0.415657</td>\n",
       "      <td>MEAN(countries_at_olympic_games.NUM_UNIQUE(med...</td>\n",
       "    </tr>\n",
       "    <tr>\n",
       "      <th>1</th>\n",
       "      <td>0.371758</td>\n",
       "      <td>MEAN(countries_at_olympic_games.COUNT(medals_w...</td>\n",
       "    </tr>\n",
       "    <tr>\n",
       "      <th>2</th>\n",
       "      <td>0.063820</td>\n",
       "      <td>ABSOLUTE(MEAN(medals_won.Height))</td>\n",
       "    </tr>\n",
       "    <tr>\n",
       "      <th>3</th>\n",
       "      <td>0.054523</td>\n",
       "      <td>MEAN(medals_won.Height)</td>\n",
       "    </tr>\n",
       "    <tr>\n",
       "      <th>4</th>\n",
       "      <td>0.049019</td>\n",
       "      <td>MIN(countries_at_olympic_games.MEAN(medals_won...</td>\n",
       "    </tr>\n",
       "    <tr>\n",
       "      <th>5</th>\n",
       "      <td>0.045224</td>\n",
       "      <td>MAX(countries_at_olympic_games.MIN(medals_won....</td>\n",
       "    </tr>\n",
       "  </tbody>\n",
       "</table>\n",
       "</div>"
      ],
      "text/plain": [
       "   Importance                                            Feature\n",
       "0    0.415657  MEAN(countries_at_olympic_games.NUM_UNIQUE(med...\n",
       "1    0.371758  MEAN(countries_at_olympic_games.COUNT(medals_w...\n",
       "2    0.063820                  ABSOLUTE(MEAN(medals_won.Height))\n",
       "3    0.054523                            MEAN(medals_won.Height)\n",
       "4    0.049019  MIN(countries_at_olympic_games.MEAN(medals_won...\n",
       "5    0.045224  MAX(countries_at_olympic_games.MIN(medals_won...."
      ]
     },
     "execution_count": 17,
     "metadata": {},
     "output_type": "execute_result"
    }
   ],
   "source": [
    "# check the importance score of selected features\n",
    "feature_imp = utils.get_feature_importances(pipeline_reg, \n",
    "#                                              all_features,\n",
    "                                            all_features.iloc[:, feature_id], # edit here to check the score of selected features\n",
    "                                            labels, splitter, 300)\n",
    " \n",
    "test_date = pd.Timestamp('08/05/2016')\n",
    "feature_imp[test_date].reset_index(drop=True)"
   ]
  },
  {
   "cell_type": "code",
   "execution_count": null,
   "id": "361b9ed1-795d-461d-9814-c557310c4bd1",
   "metadata": {},
   "outputs": [],
   "source": []
  }
 ],
 "metadata": {
  "kernelspec": {
   "display_name": "Python 3",
   "language": "python",
   "name": "python3"
  },
  "language_info": {
   "codemirror_mode": {
    "name": "ipython",
    "version": 3
   },
   "file_extension": ".py",
   "mimetype": "text/x-python",
   "name": "python",
   "nbconvert_exporter": "python",
   "pygments_lexer": "ipython3",
   "version": "3.8.3"
  },
  "toc-autonumbering": false
 },
 "nbformat": 4,
 "nbformat_minor": 5
}
