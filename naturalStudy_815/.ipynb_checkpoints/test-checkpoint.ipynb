{
 "cells": [
  {
   "cell_type": "code",
   "execution_count": null,
   "id": "01a42c83-ee92-4c50-9bd2-a80550d3266e",
   "metadata": {},
   "outputs": [],
   "source": [
    "import pandas as pd \n",
    "import numpy\n",
    "natural_features = pd.read_csv(\"natural_new.csv\")\n",
    "# auto_features_ind = []\n",
    "# auto_features_key = []\n",
    "# feature_matrix_encoded.keys()\n",
    "# feature_matrix_encoded.columns.get_loc('Country = Italy')\n",
    "# for i in natural_features[\"Feature\"]:\n",
    "#     for key in feature_matrix_encoded.keys():\n",
    "#         if i == key:\n",
    "#             auto_features_ind.append(feature_matrix_encoded.columns.get_loc(key))\n",
    "#             auto_features_key.append(key)\n",
    "# auto_features_ind\n",
    "# auto_to_csv = []\n",
    "# for i in auto_features_key:\n",
    "# #     print(numpy.array(feature_matrix_encoded[i]))\n",
    "#     auto_to_csv.append(numpy.array(feature_matrix_encoded[i]))\n",
    "\n",
    "# a = numpy.array(auto_to_csv).T\n",
    "# auto = pd.read_csv(\"aaaaaa.csv\")\n",
    "# auto.keys()"
   ]
  },
  {
   "cell_type": "code",
   "execution_count": null,
   "id": "180bffa5-6fcb-4bae-a1d9-11560c96a7da",
   "metadata": {},
   "outputs": [],
   "source": [
    "import numpy as np\n",
    "\n",
    "auto = pd.read_csv(\"aaaaaa.csv\")\n",
    "natural_features = pd.read_csv(\"natural_new.csv\")\n",
    "auto_human_features = pd.DataFrame({})\n",
    "for i in range(0, len(natural_features['Feature'])):\n",
    "#     print(natural_features['Feature'][i])\n",
    "    col = natural_features['Feature'][i]\n",
    "    ind = i\n",
    "    if col in auto.keys():  \n",
    "#         print(\"auto:\", ind)\n",
    "        auto_human_features.insert(ind, col, auto[col])\n",
    "    elif col in select_human_feature_names:\n",
    "#         print(\"human:\", ind)\n",
    "        human_ind = select_human_feature_names.index(col)\n",
    "        auto_human_features.insert(ind, col, select_human_features[human_ind])\n",
    "    else:\n",
    "        print(col)\n",
    "        \n",
    "auto_human_features.to_csv(\"features/natural_features_all.csv\")"
   ]
  }
 ],
 "metadata": {
  "kernelspec": {
   "display_name": "Python 3",
   "language": "python",
   "name": "python3"
  },
  "language_info": {
   "codemirror_mode": {
    "name": "ipython",
    "version": 3
   },
   "file_extension": ".py",
   "mimetype": "text/x-python",
   "name": "python",
   "nbconvert_exporter": "python",
   "pygments_lexer": "ipython3",
   "version": "3.8.3"
  }
 },
 "nbformat": 4,
 "nbformat_minor": 5
}
